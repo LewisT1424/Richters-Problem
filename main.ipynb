{
 "cells": [
  {
   "cell_type": "markdown",
   "metadata": {},
   "source": [
    "## Import Libraries and read data"
   ]
  },
  {
   "cell_type": "code",
   "execution_count": 1,
   "metadata": {},
   "outputs": [],
   "source": [
    "# Import manipulation libraries\n",
    "import itertools\n",
    "import pandas as pd\n",
    "import numpy as np\n",
    "\n",
    "# Import visualization libraries\n",
    "import matplotlib.pyplot as plt\n",
    "import seaborn as sns\n",
    "\n",
    "# Ignore Warning library\n",
    "import warnings\n",
    "\n",
    "# ML/Preproc libraries\n",
    "from sklearn.preprocessing import RobustScaler, StandardScaler, MinMaxScaler, OneHotEncoder, PowerTransformer\n",
    "from sklearn.tree import DecisionTreeClassifier\n",
    "from sklearn.compose import ColumnTransformer\n",
    "from sklearn.pipeline import Pipeline \n"
   ]
  },
  {
   "cell_type": "code",
   "execution_count": 2,
   "metadata": {},
   "outputs": [],
   "source": [
    "# Ignore certain warnings when plotting\n",
    "warnings.filterwarnings(\"ignore\", \"is_categorical_dtype\")\n",
    "warnings.filterwarnings(\"ignore\", \"use_inf_as_na\")"
   ]
  },
  {
   "cell_type": "code",
   "execution_count": 3,
   "metadata": {},
   "outputs": [],
   "source": [
    "# Import data from csv\n",
    "test_values = pd.read_csv('test_values.csv')\n",
    "train_labels = pd.read_csv('train_labels.csv')\n",
    "train_values = pd.read_csv('train_values.csv')"
   ]
  },
  {
   "cell_type": "code",
   "execution_count": 4,
   "metadata": {},
   "outputs": [],
   "source": [
    "# Merge training datasets to have 1 df\n",
    "df = pd.merge(train_values, train_labels, on='building_id')"
   ]
  },
  {
   "cell_type": "markdown",
   "metadata": {},
   "source": [
    "## Data Cleaning"
   ]
  },
  {
   "cell_type": "code",
   "execution_count": 5,
   "metadata": {},
   "outputs": [],
   "source": [
    "# Define anomaly detection visualization function\n",
    "def anomaly_detection(data, columns):\n",
    "    # Univariate columns\n",
    "    if columns[0] == 'geo_level_1_id':\n",
    "        for col in columns:\n",
    "            plt.figure(figsize=(10,6))\n",
    "            sns.boxplot(data=data, x=col)\n",
    "            plt.title(f'Feature: {col}');\n",
    "    elif columns[0] == 'land_surface_condition':\n",
    "        data_encoded = pd.get_dummies(data, columns=columns, dtype=int)\n",
    "        for col in [col for col in data_encoded.columns if col not in data.columns]:\n",
    "            plt.figure(figsize=(10,6))\n",
    "            sns.kdeplot(data_encoded[col], fill=True, warn_singular=False)\n",
    "            plt.title(f'Feature: {col}');\n",
    "    elif columns[0] == 'has_superstructure_adobe_mud':\n",
    "        for col in columns:\n",
    "            plt.figure(figsize=(10,6))\n",
    "            sns.histplot(data=data, x=col, stat='count')\n",
    "            plt.title(f'Feature: {col}');"
   ]
  },
  {
   "cell_type": "code",
   "execution_count": 6,
   "metadata": {},
   "outputs": [],
   "source": [
    "# Lambda function to deal with string issues for columns\n",
    "col_trans = lambda x: x.replace(',','').split()"
   ]
  },
  {
   "cell_type": "code",
   "execution_count": null,
   "metadata": {},
   "outputs": [],
   "source": [
    "# Classifying each column\n",
    "num_features = col_trans('geo_level_1_id, geo_level_2_id, geo_level_3_id')\n",
    "cat_features = col_trans('land_surface_condition, foundation_type, roof_type, ground_floor_type, other_floor_type, position, plan_configuration, legal_ownership_status')\n",
    "binary_features = col_trans('has_superstructure_adobe_mud, has_superstructure_mud_mortar_stone, has_superstructure_stone_flag, has_superstructure_cement_mortar_stone, has_superstructure_mud_mortar_brick, has_superstructure_cement_mortar_brick, has_superstructure_timber, has_superstructure_bamboo, has_superstructure_rc_engineered, has_superstructure_other, has_secondary_use_hotel, has_secondary_use_rental, has_secondary_use_institution, has_secondary_use_school, has_secondary_use_industry, has_secondary_use_health_post, has_secondary_use_gov_office, has_secondary_use_use_police, has_secondary_use_other')\n",
    "left_skew_features = col_trans('count_floors_pre_eq, age, area_percentage, height_percentage, count_families')"
   ]
  },
  {
   "cell_type": "markdown",
   "metadata": {},
   "source": [
    "### Categorical Anomaly Detection"
   ]
  },
  {
   "cell_type": "code",
   "execution_count": null,
   "metadata": {},
   "outputs": [],
   "source": [
    "# Univariant columns anomaly detection\n",
    "anomaly_detection(data=df, columns=cat_features)"
   ]
  },
  {
   "cell_type": "markdown",
   "metadata": {},
   "source": [
    "### Univariate Anomaly Detection"
   ]
  },
  {
   "cell_type": "code",
   "execution_count": null,
   "metadata": {},
   "outputs": [],
   "source": [
    "anomaly_detection(data=df, columns=list(itertools.chain(num_features, left_skew_features)))"
   ]
  },
  {
   "cell_type": "markdown",
   "metadata": {},
   "source": [
    "### Binary Anomaly Detection"
   ]
  },
  {
   "cell_type": "code",
   "execution_count": null,
   "metadata": {},
   "outputs": [],
   "source": [
    "anomaly_detection(data=df, columns=binary_features)"
   ]
  },
  {
   "cell_type": "markdown",
   "metadata": {},
   "source": [
    "## Data Transformation"
   ]
  },
  {
   "cell_type": "markdown",
   "metadata": {},
   "source": [
    "### Viewing distribution of Univariate data"
   ]
  },
  {
   "cell_type": "code",
   "execution_count": 10,
   "metadata": {},
   "outputs": [],
   "source": [
    "# Function to view skewness of univariate data\n",
    "def skew_vis(data, columns):\n",
    "    for feat in columns:\n",
    "        plt.figure(figsize=(10,6))\n",
    "        sns.histplot(data=data[feat], bins=150)\n",
    "        plt.title(f'Dist of Feature: {feat}')\n"
   ]
  },
  {
   "cell_type": "markdown",
   "metadata": {},
   "source": [
    "#### Regular data Skewness"
   ]
  },
  {
   "cell_type": "code",
   "execution_count": null,
   "metadata": {},
   "outputs": [],
   "source": [
    "skew_vis(data=df, columns=list(itertools.chain(num_features, left_skew_features)))"
   ]
  },
  {
   "cell_type": "markdown",
   "metadata": {},
   "source": [
    "## Model Selection"
   ]
  },
  {
   "cell_type": "markdown",
   "metadata": {},
   "source": [
    "### Baseline Model"
   ]
  },
  {
   "cell_type": "code",
   "execution_count": 139,
   "metadata": {},
   "outputs": [],
   "source": [
    "# Split data into X and y to diffentiate training data and target data\n",
    "X = df.drop(columns=['damage_grade'])\n",
    "y = df[['damage_grade']]"
   ]
  },
  {
   "cell_type": "code",
   "execution_count": 141,
   "metadata": {},
   "outputs": [],
   "source": [
    "# Building custom transformer for preprocessing\n",
    "class CustomerTransformer:\n",
    "    def __init__(self):\n",
    "        self.minmax_features = num_features\n",
    "        self.ohe_features = cat_features\n",
    "        self.yj_columns = left_skew_features\n",
    "        self.minmax_scaler = MinMaxScaler()\n",
    "        self.ohe_encoder = OneHotEncoder(sparse_output=False, handle_unknown='ignore')\n",
    "        self.yj_transformer = PowerTransformer(method='yeo-johnson')\n",
    "\n",
    "    def fit(self, X, y=None):\n",
    "\n",
    "        # Fit Yeo-Johnson transformer\n",
    "        self.yj_transformer.fit(X[self.yj_columns])\n",
    "\n",
    "        # Fit the MinMaxScaler on numerical columns\n",
    "        self.minmax_scaler.fit(X[self.minmax_features])\n",
    "\n",
    "        # Fit the OHE on categorical columns\n",
    "        self.ohe_encoder.fit(X[self.ohe_features])\n",
    "        \n",
    "        return self\n",
    "\n",
    "\n",
    "    def transform(self, X, y=None):\n",
    "\n",
    "        # Apply Yeo-Johnson Transformation\n",
    "        X_yj_scaled = self.yj_transformer.transform(X[self.yj_columns]) \n",
    "\n",
    "        # Apply MinMaxScaler Transformation\n",
    "        X_minmax_scaled = self.minmax_scaler.transform(X[self.minmax_features])\n",
    "\n",
    "        # Apply OneHotEncoder Transformation\n",
    "        X_ohe_encoded = self.ohe_encoder.transform(X[self.ohe_features])\n",
    "\n",
    "        return np.hstack((X_yj_scaled, X_minmax_scaled, X_ohe_encoded))"
   ]
  },
  {
   "cell_type": "code",
   "execution_count": 142,
   "metadata": {},
   "outputs": [],
   "source": [
    "baseline_model_pipeline = Pipeline(steps=[\n",
    "    ('preprocess', CustomerTransformer()),\n",
    "    ('classifier', DecisionTreeClassifier())\n",
    "])"
   ]
  },
  {
   "cell_type": "code",
   "execution_count": null,
   "metadata": {},
   "outputs": [],
   "source": [
    "baseline_model_pipeline.fit(X, y)"
   ]
  },
  {
   "cell_type": "code",
   "execution_count": null,
   "metadata": {},
   "outputs": [],
   "source": [
    "predictions = baseline_model_pipeline.predict(test_values)\n",
    "print(f'Predictions: {predictions}')"
   ]
  },
  {
   "cell_type": "markdown",
   "metadata": {},
   "source": [
    "### Model Evaluation"
   ]
  },
  {
   "cell_type": "code",
   "execution_count": null,
   "metadata": {},
   "outputs": [],
   "source": [
    "from sklearn.model_selection import GridSearchCV\n",
    "\n",
    "param_grid = {\n",
    "    'classifier__max_depth': [20]\n",
    "}\n",
    "\n",
    "grid_search = GridSearchCV(baseline_model_pipeline, param_grid=param_grid, refit='accuracy', return_train_score=True, cv=5)\n",
    "grid_search.fit(X, y)"
   ]
  },
  {
   "cell_type": "code",
   "execution_count": null,
   "metadata": {},
   "outputs": [],
   "source": [
    "print(f'Best Parameters: {grid_search.best_params_}')\n",
    "print(f'Best CV Accuracy: {grid_search.best_score_}')"
   ]
  }
 ],
 "metadata": {
  "kernelspec": {
   "display_name": "base",
   "language": "python",
   "name": "python3"
  },
  "language_info": {
   "codemirror_mode": {
    "name": "ipython",
    "version": 3
   },
   "file_extension": ".py",
   "mimetype": "text/x-python",
   "name": "python",
   "nbconvert_exporter": "python",
   "pygments_lexer": "ipython3",
   "version": "3.11.7"
  }
 },
 "nbformat": 4,
 "nbformat_minor": 2
}
